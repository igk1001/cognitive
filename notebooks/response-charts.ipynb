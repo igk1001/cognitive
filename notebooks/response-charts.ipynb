{
 "metadata": {
  "language_info": {
   "codemirror_mode": {
    "name": "ipython",
    "version": 3
   },
   "file_extension": ".py",
   "mimetype": "text/x-python",
   "name": "python",
   "nbconvert_exporter": "python",
   "pygments_lexer": "ipython3",
   "version": "3.7.3-final"
  },
  "orig_nbformat": 2,
  "kernelspec": {
   "name": "python3",
   "display_name": "Python 3.7.3 32-bit",
   "metadata": {
    "interpreter": {
     "hash": "31f2aee4e71d21fbe5cf8b01ff0e069b9275f58929596ceb00d14d90e3e16cd6"
    }
   }
  }
 },
 "nbformat": 4,
 "nbformat_minor": 2,
 "cells": [
  {
   "cell_type": "code",
   "execution_count": null,
   "metadata": {},
   "outputs": [],
   "source": [
    "def set_axis_style(ax, labels):\n",
    "    ax.get_xaxis().set_tick_params(direction='out')\n",
    "    ax.xaxis.set_ticks_position('bottom')\n",
    "    ax.set_xticks(np.arange(1, len(labels) + 1))\n",
    "    ax.set_xticklabels(labels)\n",
    "    ax.set_xlim(0.25, len(labels) + 0.75)\n",
    "    ax.set_xlabel('Device #')\n"
   ]
  },
  {
   "cell_type": "code",
   "execution_count": null,
   "metadata": {},
   "outputs": [],
   "source": [
    "import requests\n",
    "import json\n",
    "response = requests.get(\"http://localhost:5001/raw-data\")\n",
    "#print(response.json())\n",
    "data = response.json()\n",
    "values = set(map(lambda x:x['device'], data))\n",
    "newlist = [[y['value'] for y in data if y['device']==x] for x in values]\n",
    "#print(newlist)\n",
    "\n",
    "fig, (ax1, ax2) = plt.subplots(nrows=1, ncols=2, figsize=(9, 4), sharey=True)\n",
    "\n",
    "ax1.set_title('Response comparison:' + str() )\n",
    "ax1.set_ylabel('Observed values (ms)')\n",
    "ax1.violinplot(newlist)\n",
    "\n",
    "labels = values\n",
    "set_axis_style(ax1, labels)\n",
    "plt.subplots_adjust(bottom=0.15, wspace=0.05)\n",
    "plt.show()\n"
   ]
  },
  {
   "cell_type": "code",
   "execution_count": null,
   "metadata": {},
   "outputs": [],
   "source": [
    "import requests\n",
    "import json\n",
    "response = requests.get(\"http://localhost:5001/raw-data\")\n",
    "#print(response.json())\n",
    "data = response.json()\n",
    "values = list(map(lambda x:x['device'], data))\n",
    "print(values)\n",
    "\n",
    "pattern1 = ['A','A','B']\n",
    "input1 = ['A','A','B','A','B,'A','B','C']\n",
    "output1 = [['A','A','B'], ['A','B'], ['A','B'],['C']]\n",
    "\n",
    "pattern2 = ['1','2','3']\n",
    "input2 = ['1','2','2','3','1,'2','3','3']\n",
    "output2 = [['1','2','2'], ['3'], ['1','2','3'], ['3']]\n",
    "\n",
    "results = []\n",
    "res = []\n",
    "for v in values:\n",
    "    for p in pattern:\n",
    "        res.append (v)\n",
    "        if v!=p:\n",
    "            result.append(res)\n",
    "        "
   ]
  },
  {
   "cell_type": "code",
   "execution_count": null,
   "metadata": {},
   "outputs": [],
   "source": [
    "import plotly.express as px\n",
    "df = px.data.tips()\n",
    "print (df)\n",
    "fig = px.sunburst(df, path=['day', 'time', 'sex'], values='total_bill')\n",
    "fig.show()"
   ]
  },
  {
   "cell_type": "code",
   "execution_count": null,
   "metadata": {},
   "outputs": [],
   "source": [
    "import numpy as np\n",
    "import matplotlib.pyplot as plt\n",
    "\n",
    "def sunburst(nodes, total=np.pi * 2, offset=0, level=0, ax=None):\n",
    "    ax = ax or plt.subplot(111, projection='polar')\n",
    "\n",
    "    if level == 0 and len(nodes) == 1:\n",
    "        label, value, subnodes = nodes[0]\n",
    "        ax.bar([0], [0.5], [np.pi * 2])\n",
    "        ax.text(0, 0, label, ha='center', va='center')\n",
    "        sunburst(subnodes, total=value, level=level + 1, ax=ax)\n",
    "    elif nodes:\n",
    "        d = np.pi * 2 / total\n",
    "        labels = []\n",
    "        widths = []\n",
    "        local_offset = offset\n",
    "        for label, value, subnodes in nodes:\n",
    "            labels.append(label)\n",
    "            widths.append(value * d)\n",
    "            sunburst(subnodes, total=total, offset=local_offset,\n",
    "                     level=level + 1, ax=ax)\n",
    "            local_offset += value\n",
    "        values = np.cumsum([offset * d] + widths[:-1])\n",
    "        heights = [1] * len(nodes)\n",
    "        bottoms = np.zeros(len(nodes)) + level - 0.5\n",
    "        rects = ax.bar(values, heights, widths, bottoms, linewidth=1,\n",
    "                       edgecolor='white', align='edge')\n",
    "        for rect, label in zip(rects, labels):\n",
    "            x = rect.get_x() + rect.get_width() / 2\n",
    "            y = rect.get_y() + rect.get_height() / 2\n",
    "            rotation = (90 + (360 - np.degrees(x) % 180)) % 360\n",
    "            ax.text(x, y, label, rotation=rotation, ha='center', va='center') \n",
    "\n",
    "    if level == 0:\n",
    "        ax.set_theta_direction(-1)\n",
    "        ax.set_theta_zero_location('N')\n",
    "        ax.set_axis_off()"
   ]
  },
  {
   "cell_type": "code",
   "execution_count": null,
   "metadata": {},
   "outputs": [],
   "source": [
    "data = [\n",
    "    ('/', 100, [\n",
    "        ('home', 70, [\n",
    "            ('Images', 40, []),\n",
    "            ('Videos', 20, []),\n",
    "            ('Documents', 5, []),\n",
    "        ]),\n",
    "        ('usr', 15, [\n",
    "            ('src', 6, [\n",
    "                ('linux-headers', 4, []),\n",
    "                ('virtualbox', 1, []),\n",
    "\n",
    "            ]),\n",
    "            ('lib', 4, []),\n",
    "            ('share', 2, []),\n",
    "            ('bin', 1, []),\n",
    "            ('local', 1, [('Images', 5, []),\n",
    "            ('Videos', 2, [])]),\n",
    "            ('include', 1, []),\n",
    "        ]),\n",
    "    ]),\n",
    "]\n",
    "\n",
    "sunburst(data)"
   ]
  },
  {
   "cell_type": "code",
   "execution_count": null,
   "metadata": {},
   "outputs": [],
   "source": []
  }
 ]
}